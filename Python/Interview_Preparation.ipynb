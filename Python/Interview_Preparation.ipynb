{
 "cells": [
  {
   "cell_type": "markdown",
   "id": "dd277b9e-757a-4112-8ed3-3a09f751744f",
   "metadata": {},
   "source": [
    "### 1.Write a program that calculates the factorial of a number input by the user using a while loop."
   ]
  },
  {
   "cell_type": "code",
   "execution_count": 5,
   "id": "5e97c6db-0c2a-4e06-9d31-0a697739a54b",
   "metadata": {},
   "outputs": [
    {
     "name": "stdin",
     "output_type": "stream",
     "text": [
      "enter a number 4\n"
     ]
    },
    {
     "name": "stdout",
     "output_type": "stream",
     "text": [
      "24\n"
     ]
    }
   ],
   "source": [
    "### Factorial Calculation\n",
    "# Write a program that calculates the factorial of a number input by the user using a while loop.\n",
    "# n= 5 ==> 1*2*3*4*5\n",
    "number = int(input('enter a number'))\n",
    "factorial = 1\n",
    "i =1\n",
    "while i<=number:\n",
    "    factorial = factorial * i\n",
    "    i=i+1\n",
    "\n",
    "print(factorial)\n",
    "    "
   ]
  },
  {
   "cell_type": "code",
   "execution_count": 21,
   "id": "85c51084-7ac2-46d1-922e-3efc6e86da6d",
   "metadata": {},
   "outputs": [
    {
     "name": "stdin",
     "output_type": "stream",
     "text": [
      "enter a number 5\n"
     ]
    },
    {
     "name": "stdout",
     "output_type": "stream",
     "text": [
      "120\n"
     ]
    }
   ],
   "source": [
    "n = int(input('enter a number'))\n",
    "factorial = 1\n",
    "\n",
    "for i in range(1,n+1):\n",
    "    # print(i)\n",
    "    factorial =factorial * i\n",
    "\n",
    "print(factorial)\n",
    "    "
   ]
  },
  {
   "cell_type": "markdown",
   "id": "9046faa8-f9e4-4095-bf57-63bbc41f3425",
   "metadata": {},
   "source": [
    "### 2.Write a program that calculates the sum of the digits of a number input by the user using a while loop."
   ]
  },
  {
   "cell_type": "code",
   "execution_count": 28,
   "id": "5b14c43d-e6d2-4402-a970-81366f4df984",
   "metadata": {},
   "outputs": [
    {
     "name": "stdin",
     "output_type": "stream",
     "text": [
      " 234\n"
     ]
    },
    {
     "name": "stdout",
     "output_type": "stream",
     "text": [
      "9\n"
     ]
    }
   ],
   "source": [
    "# Sum of Digits\n",
    "# Write a program that calculates the sum of the digits of a number input by the user using a while loop.\n",
    "# 123 = 1+2+3 =6\n",
    "\n",
    "num = int(input())\n",
    "sum= 0\n",
    "while num>0:\n",
    "    # n = num%10\n",
    "    sum = sum+ (num%10)\n",
    "    num =  num //10\n",
    "\n",
    "print(sum)\n",
    "    \n",
    "    "
   ]
  },
  {
   "cell_type": "code",
   "execution_count": 26,
   "id": "b40aadcf-0f8a-4684-8563-8632f712f2cb",
   "metadata": {},
   "outputs": [
    {
     "name": "stdin",
     "output_type": "stream",
     "text": [
      " 2345\n"
     ]
    },
    {
     "name": "stdout",
     "output_type": "stream",
     "text": [
      "14\n"
     ]
    }
   ],
   "source": [
    "num = int(input())\n",
    "sum = 0\n",
    "for i in range(len(str(num))):\n",
    "    # n = num % 10\n",
    "    sum = sum + (num%10)\n",
    "    num = num //10\n",
    "\n",
    "print(sum)\n",
    "    "
   ]
  },
  {
   "cell_type": "code",
   "execution_count": 12,
   "id": "3c125696-6d34-4fe8-b27f-d21aa5eb7e3f",
   "metadata": {},
   "outputs": [
    {
     "data": {
      "text/plain": [
       "3"
      ]
     },
     "execution_count": 12,
     "metadata": {},
     "output_type": "execute_result"
    }
   ],
   "source": [
    "len(str(123))"
   ]
  },
  {
   "cell_type": "code",
   "execution_count": 32,
   "id": "0e3d1b9b-3c1f-4cf0-8a6f-ff4aca89f78a",
   "metadata": {},
   "outputs": [
    {
     "data": {
      "text/plain": [
       "0"
      ]
     },
     "execution_count": 32,
     "metadata": {},
     "output_type": "execute_result"
    }
   ],
   "source": [
    "4%2"
   ]
  },
  {
   "cell_type": "code",
   "execution_count": 80,
   "id": "6d94a07c-a195-4205-b695-2297d098fdc8",
   "metadata": {},
   "outputs": [
    {
     "data": {
      "text/plain": [
       "5"
      ]
     },
     "execution_count": 80,
     "metadata": {},
     "output_type": "execute_result"
    }
   ],
   "source": [
    "11 // 2"
   ]
  },
  {
   "cell_type": "markdown",
   "id": "0c071a98-7a30-4386-80de-685cd5d5309f",
   "metadata": {},
   "source": [
    "### 3.Write a program that checks if a number input by the user is a prime number using a for loop."
   ]
  },
  {
   "cell_type": "code",
   "execution_count": 191,
   "id": "a276503e-0a34-4f83-8b56-8e9decf9800a",
   "metadata": {},
   "outputs": [
    {
     "name": "stdout",
     "output_type": "stream",
     "text": [
      "Number is not prime\n"
     ]
    }
   ],
   "source": [
    "# ### Prime Number Check\n",
    "# Write a program that checks if a number input by the user is a prime number using a for loop.\n",
    "\n",
    "n = 21\n",
    "for i in range(2,(n//2)+1):\n",
    "    # print(i)\n",
    "    if n % i ==0:        \n",
    "        print('Number is not prime')\n",
    "        break\n",
    "else:\n",
    "    print('number is prime')"
   ]
  },
  {
   "cell_type": "markdown",
   "id": "30d6707b-c1d9-4b8a-8633-1527d050bbd9",
   "metadata": {},
   "source": [
    "### 4.Write a program to print prime numbers"
   ]
  },
  {
   "cell_type": "code",
   "execution_count": 195,
   "id": "a6f670dc-bb62-46ee-8ec1-3c92b52598f3",
   "metadata": {},
   "outputs": [
    {
     "name": "stdin",
     "output_type": "stream",
     "text": [
      "enter a number 30\n"
     ]
    },
    {
     "name": "stdout",
     "output_type": "stream",
     "text": [
      " 2   3   5   7   11   13   17   19   23   29  "
     ]
    }
   ],
   "source": [
    "# Write a program to print prime numbers\n",
    "n = int(input('enter a number'))\n",
    "\n",
    "for num in range(1,n+1):\n",
    "    count = 0\n",
    "    for i in range(2,(num//2)+1):\n",
    "        if num % i == 0:\n",
    "            count = count +1\n",
    "            break\n",
    "    if (count ==0 and num !=1):\n",
    "        # print(num)\n",
    "        print(\" %d\" %num, end = '  ')"
   ]
  },
  {
   "cell_type": "markdown",
   "id": "76b73e44-7c48-445a-93a4-9d631c011c66",
   "metadata": {},
   "source": [
    "### 5.Write a program that prints the first n Fibonacci numbers, where n is input by the user."
   ]
  },
  {
   "cell_type": "code",
   "execution_count": 226,
   "id": "12464a2f-e9b3-4aa7-bfc3-e76108a12fdb",
   "metadata": {},
   "outputs": [
    {
     "name": "stdin",
     "output_type": "stream",
     "text": [
      " 10\n"
     ]
    },
    {
     "name": "stdout",
     "output_type": "stream",
     "text": [
      "1\n",
      "1\n",
      "2\n",
      "3\n",
      "5\n",
      "8\n",
      "13\n",
      "21\n",
      "34\n",
      "55\n"
     ]
    }
   ],
   "source": [
    "n= int(input())\n",
    "count = 0\n",
    "a = 0\n",
    "b = 1\n",
    "while count<n:\n",
    "    print(b)\n",
    "    a ,b = b,a+b\n",
    "    count = count+1\n",
    "    # print(b)"
   ]
  },
  {
   "cell_type": "code",
   "execution_count": 230,
   "id": "7232f0d8-a7cc-46e7-9592-db62d3d8a815",
   "metadata": {},
   "outputs": [
    {
     "name": "stdin",
     "output_type": "stream",
     "text": [
      " 10\n"
     ]
    },
    {
     "name": "stdout",
     "output_type": "stream",
     "text": [
      "1\n",
      "1\n",
      "2\n",
      "3\n",
      "5\n",
      "8\n",
      "13\n",
      "21\n",
      "34\n",
      "55\n"
     ]
    }
   ],
   "source": [
    "n = int(input())\n",
    "a , b = 0,1\n",
    "for i in range(n):\n",
    "    print(b)\n",
    "    a,b = b,a+b"
   ]
  },
  {
   "cell_type": "markdown",
   "id": "98dceba8-3ab4-47ff-803f-b41e091ad288",
   "metadata": {},
   "source": [
    "### 6.Sorting a List without using sort function"
   ]
  },
  {
   "cell_type": "code",
   "execution_count": 254,
   "id": "a07828f9-0d7e-4450-9da2-d00a4d42d858",
   "metadata": {},
   "outputs": [
    {
     "name": "stdout",
     "output_type": "stream",
     "text": [
      "[2, 3, 4, 5, 6, 8, 9]\n"
     ]
    }
   ],
   "source": [
    "li = [2,5,3,6,4,9,8]\n",
    "\n",
    "for i in range(len(li)):\n",
    "    # print(li[i])\n",
    "    for j in range(i+1,len(li)):\n",
    "        # print(li[j])\n",
    "        if li[i] >= li[j]:\n",
    "            li[i],li[j] = li[j],li[i]\n",
    "print(li)"
   ]
  },
  {
   "cell_type": "code",
   "execution_count": 260,
   "id": "d84c54e6-fae5-483f-a87e-cc8479971af0",
   "metadata": {},
   "outputs": [
    {
     "name": "stdout",
     "output_type": "stream",
     "text": [
      "[9, 8, 6, 5, 4, 3, 2]\n"
     ]
    }
   ],
   "source": [
    "li = [2,5,3,6,4,9,8]\n",
    "\n",
    "for i in range(len(li)):\n",
    "    # print(li[i])\n",
    "    for j in range(i+1,len(li)):\n",
    "        # print(li[j])\n",
    "        if li[i] <= li[j]:\n",
    "            li[i],li[j] = li[j],li[i]\n",
    "print(li)"
   ]
  },
  {
   "cell_type": "code",
   "execution_count": null,
   "id": "e24ee854-6467-475d-8126-0e90d9015dc2",
   "metadata": {},
   "outputs": [],
   "source": []
  },
  {
   "cell_type": "code",
   "execution_count": null,
   "id": "fcc65f61-346c-40bd-9b24-65478e9e318e",
   "metadata": {},
   "outputs": [],
   "source": [
    "tweet_id\tuser_id\tmsg\ttweet_date\n",
    "214252\t111\tAm considering taking Tesla private at $420. Funding secured.\t12/30/2021 00:00:00\n",
    "739252\t111\tDespite the constant negative press covfefe\t01/01/2022 00:00:00\n",
    "846402\t111\tFollowing @NickSinghTech on Twitter changed my life!\t02/14/2022 00:00:00\n",
    "241425\t254\tIf the salary is so competitive why won’t you tell me what it is?\t03/01/2022 00:00:00\n",
    "231574\t148\tI no longer have a manager. I can't be managed\t03/23/2022 00:00:00"
   ]
  },
  {
   "cell_type": "code",
   "execution_count": 270,
   "id": "fed2f0c2-bfe6-41e2-86e4-4285face6c5b",
   "metadata": {},
   "outputs": [],
   "source": [
    "dict = {'tweet_id' : [214252,739252,846402,241425,231574],\n",
    "        'user_id' : [111,111,111,254,148],\n",
    "        'msg' : ['Am considering taking Tesla private at $420',\n",
    "                 'Despite the constant negative press covfefe',\n",
    "                 'Following @NickSinghTech on Twitter changed my life!',\n",
    "                 'If the salary is so competitive why wont you tell me what it is?',\n",
    "                 'I no longer have a manager I cant be managed'],\n",
    "                 \n",
    "        'tweet_date'  : ['12/30/2021 00:00:00','01/01/2022 00:00:00','02/14/2022 00:00:00','03/01/2022 00:00:00','03/23/2022 00:00:00']}\n",
    "                 "
   ]
  },
  {
   "cell_type": "code",
   "execution_count": 274,
   "id": "d6f8a477-2c4b-451d-8514-6aee18c3220a",
   "metadata": {},
   "outputs": [],
   "source": [
    "import pandas as pd"
   ]
  },
  {
   "cell_type": "code",
   "execution_count": 288,
   "id": "74df2b13-9df0-4a95-b89c-46d2d6987c9d",
   "metadata": {},
   "outputs": [],
   "source": [
    "df = pd.DataFrame(dict)"
   ]
  },
  {
   "cell_type": "code",
   "execution_count": 306,
   "id": "1ba33d10-d86d-4a62-ba00-878c22126f56",
   "metadata": {},
   "outputs": [],
   "source": [
    "df['tweet_date'] = pd.to_datetime(df['tweet_date'])"
   ]
  },
  {
   "cell_type": "code",
   "execution_count": 310,
   "id": "f9d5f4d3-5c8c-4c62-b360-bbc8a3fe38e3",
   "metadata": {},
   "outputs": [
    {
     "data": {
      "text/html": [
       "<div>\n",
       "<style scoped>\n",
       "    .dataframe tbody tr th:only-of-type {\n",
       "        vertical-align: middle;\n",
       "    }\n",
       "\n",
       "    .dataframe tbody tr th {\n",
       "        vertical-align: top;\n",
       "    }\n",
       "\n",
       "    .dataframe thead th {\n",
       "        text-align: right;\n",
       "    }\n",
       "</style>\n",
       "<table border=\"1\" class=\"dataframe\">\n",
       "  <thead>\n",
       "    <tr style=\"text-align: right;\">\n",
       "      <th></th>\n",
       "      <th>tweet_id</th>\n",
       "      <th>user_id</th>\n",
       "      <th>msg</th>\n",
       "      <th>tweet_date</th>\n",
       "    </tr>\n",
       "  </thead>\n",
       "  <tbody>\n",
       "    <tr>\n",
       "      <th>0</th>\n",
       "      <td>214252</td>\n",
       "      <td>111</td>\n",
       "      <td>Am considering taking Tesla private at $420</td>\n",
       "      <td>2021-12-30</td>\n",
       "    </tr>\n",
       "    <tr>\n",
       "      <th>1</th>\n",
       "      <td>739252</td>\n",
       "      <td>111</td>\n",
       "      <td>Despite the constant negative press covfefe</td>\n",
       "      <td>2022-01-01</td>\n",
       "    </tr>\n",
       "    <tr>\n",
       "      <th>2</th>\n",
       "      <td>846402</td>\n",
       "      <td>111</td>\n",
       "      <td>Following @NickSinghTech on Twitter changed my...</td>\n",
       "      <td>2022-02-14</td>\n",
       "    </tr>\n",
       "    <tr>\n",
       "      <th>3</th>\n",
       "      <td>241425</td>\n",
       "      <td>254</td>\n",
       "      <td>If the salary is so competitive why wont you t...</td>\n",
       "      <td>2022-03-01</td>\n",
       "    </tr>\n",
       "    <tr>\n",
       "      <th>4</th>\n",
       "      <td>231574</td>\n",
       "      <td>148</td>\n",
       "      <td>I no longer have a manager I cant be managed</td>\n",
       "      <td>2022-03-23</td>\n",
       "    </tr>\n",
       "  </tbody>\n",
       "</table>\n",
       "</div>"
      ],
      "text/plain": [
       "   tweet_id  user_id                                                msg  \\\n",
       "0    214252      111        Am considering taking Tesla private at $420   \n",
       "1    739252      111        Despite the constant negative press covfefe   \n",
       "2    846402      111  Following @NickSinghTech on Twitter changed my...   \n",
       "3    241425      254  If the salary is so competitive why wont you t...   \n",
       "4    231574      148       I no longer have a manager I cant be managed   \n",
       "\n",
       "  tweet_date  \n",
       "0 2021-12-30  \n",
       "1 2022-01-01  \n",
       "2 2022-02-14  \n",
       "3 2022-03-01  \n",
       "4 2022-03-23  "
      ]
     },
     "execution_count": 310,
     "metadata": {},
     "output_type": "execute_result"
    }
   ],
   "source": [
    "df"
   ]
  },
  {
   "cell_type": "code",
   "execution_count": 286,
   "id": "4089300b-3938-4f60-839e-7ed4449ef1b0",
   "metadata": {},
   "outputs": [],
   "source": [
    "from pandasql import sqldf\n",
    "pysqldf = lambda q: sqldf(q, globals())"
   ]
  },
  {
   "cell_type": "code",
   "execution_count": 330,
   "id": "cd7985cf-1a7c-4f0c-a293-8154544aca6c",
   "metadata": {},
   "outputs": [
    {
     "data": {
      "text/html": [
       "<div>\n",
       "<style scoped>\n",
       "    .dataframe tbody tr th:only-of-type {\n",
       "        vertical-align: middle;\n",
       "    }\n",
       "\n",
       "    .dataframe tbody tr th {\n",
       "        vertical-align: top;\n",
       "    }\n",
       "\n",
       "    .dataframe thead th {\n",
       "        text-align: right;\n",
       "    }\n",
       "</style>\n",
       "<table border=\"1\" class=\"dataframe\">\n",
       "  <thead>\n",
       "    <tr style=\"text-align: right;\">\n",
       "      <th></th>\n",
       "      <th>user_id</th>\n",
       "      <th>tweet_bucket</th>\n",
       "    </tr>\n",
       "  </thead>\n",
       "  <tbody>\n",
       "    <tr>\n",
       "      <th>0</th>\n",
       "      <td>111</td>\n",
       "      <td>2</td>\n",
       "    </tr>\n",
       "    <tr>\n",
       "      <th>1</th>\n",
       "      <td>148</td>\n",
       "      <td>1</td>\n",
       "    </tr>\n",
       "    <tr>\n",
       "      <th>2</th>\n",
       "      <td>254</td>\n",
       "      <td>1</td>\n",
       "    </tr>\n",
       "  </tbody>\n",
       "</table>\n",
       "</div>"
      ],
      "text/plain": [
       "   user_id  tweet_bucket\n",
       "0      111             2\n",
       "1      148             1\n",
       "2      254             1"
      ]
     },
     "execution_count": 330,
     "metadata": {},
     "output_type": "execute_result"
    }
   ],
   "source": [
    "query = ('''select \n",
    "user_id,count(msg) as tweet_bucket\n",
    "from df\n",
    "where tweet_date between '2022-01-01' and '2022-12-31'\n",
    "group by user_id\n",
    "\n",
    "''')\n",
    "report=pysqldf(query)\n",
    "report"
   ]
  },
  {
   "cell_type": "code",
   "execution_count": 318,
   "id": "358969d6-ffc5-43f8-8dfb-8be5d431317f",
   "metadata": {},
   "outputs": [],
   "source": [
    "# tweet_bucket\tusers_num\n",
    "# 1\t               2\n",
    "# 2\t               1"
   ]
  },
  {
   "cell_type": "code",
   "execution_count": 334,
   "id": "196348a9-db6b-4df6-9b6e-225fb86d0961",
   "metadata": {},
   "outputs": [
    {
     "data": {
      "text/html": [
       "<div>\n",
       "<style scoped>\n",
       "    .dataframe tbody tr th:only-of-type {\n",
       "        vertical-align: middle;\n",
       "    }\n",
       "\n",
       "    .dataframe tbody tr th {\n",
       "        vertical-align: top;\n",
       "    }\n",
       "\n",
       "    .dataframe thead th {\n",
       "        text-align: right;\n",
       "    }\n",
       "</style>\n",
       "<table border=\"1\" class=\"dataframe\">\n",
       "  <thead>\n",
       "    <tr style=\"text-align: right;\">\n",
       "      <th></th>\n",
       "      <th>tweet_bucket</th>\n",
       "      <th>user_num</th>\n",
       "    </tr>\n",
       "  </thead>\n",
       "  <tbody>\n",
       "    <tr>\n",
       "      <th>0</th>\n",
       "      <td>1</td>\n",
       "      <td>2</td>\n",
       "    </tr>\n",
       "    <tr>\n",
       "      <th>1</th>\n",
       "      <td>2</td>\n",
       "      <td>1</td>\n",
       "    </tr>\n",
       "  </tbody>\n",
       "</table>\n",
       "</div>"
      ],
      "text/plain": [
       "   tweet_bucket  user_num\n",
       "0             1         2\n",
       "1             2         1"
      ]
     },
     "execution_count": 334,
     "metadata": {},
     "output_type": "execute_result"
    }
   ],
   "source": [
    "query1 = ('''select tweet_bucket,count(user_id) as user_num\n",
    "from report\n",
    "group by tweet_bucket\n",
    "\n",
    "''')\n",
    "report1 = pysqldf(query1)\n",
    "report1"
   ]
  },
  {
   "cell_type": "code",
   "execution_count": 336,
   "id": "aa2465c8-79c7-40c7-8566-a0f8f49c234c",
   "metadata": {},
   "outputs": [
    {
     "data": {
      "text/html": [
       "<div>\n",
       "<style scoped>\n",
       "    .dataframe tbody tr th:only-of-type {\n",
       "        vertical-align: middle;\n",
       "    }\n",
       "\n",
       "    .dataframe tbody tr th {\n",
       "        vertical-align: top;\n",
       "    }\n",
       "\n",
       "    .dataframe thead th {\n",
       "        text-align: right;\n",
       "    }\n",
       "</style>\n",
       "<table border=\"1\" class=\"dataframe\">\n",
       "  <thead>\n",
       "    <tr style=\"text-align: right;\">\n",
       "      <th></th>\n",
       "      <th>tweet_bucket</th>\n",
       "      <th>user_num</th>\n",
       "    </tr>\n",
       "  </thead>\n",
       "  <tbody>\n",
       "    <tr>\n",
       "      <th>0</th>\n",
       "      <td>1</td>\n",
       "      <td>2</td>\n",
       "    </tr>\n",
       "    <tr>\n",
       "      <th>1</th>\n",
       "      <td>2</td>\n",
       "      <td>1</td>\n",
       "    </tr>\n",
       "  </tbody>\n",
       "</table>\n",
       "</div>"
      ],
      "text/plain": [
       "   tweet_bucket  user_num\n",
       "0             1         2\n",
       "1             2         1"
      ]
     },
     "execution_count": 336,
     "metadata": {},
     "output_type": "execute_result"
    }
   ],
   "source": [
    "query2 = (''' select tweet_bucket,count(user_id) as user_num\n",
    "from\n",
    "(select \n",
    "user_id,count(msg) as tweet_bucket\n",
    "from df\n",
    "where tweet_date between '2022-01-01' and '2022-12-31'\n",
    "group by user_id)\n",
    "group by tweet_bucket\n",
    "\n",
    "''')\n",
    "report2 =pysqldf(query2)\n",
    "report2"
   ]
  }
 ],
 "metadata": {
  "kernelspec": {
   "display_name": "Python 3 (ipykernel)",
   "language": "python",
   "name": "python3"
  },
  "language_info": {
   "codemirror_mode": {
    "name": "ipython",
    "version": 3
   },
   "file_extension": ".py",
   "mimetype": "text/x-python",
   "name": "python",
   "nbconvert_exporter": "python",
   "pygments_lexer": "ipython3",
   "version": "3.12.4"
  }
 },
 "nbformat": 4,
 "nbformat_minor": 5
}
